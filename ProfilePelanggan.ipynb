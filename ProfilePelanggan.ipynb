import pandas as pd
import matplotlib.pyplot as plt

df = pd.read_csv('profile_pelanggan.csv')

plt.figure(figsize=(24, 6))

x = df.iloc[:, 0]
y = df.iloc[:, 1]

plt.scatter(x, y, s=0.1)

plt.xlabel('Pelanggan')
plt.ylabel('Kota')

plt.title('Profile Pelanggan')

plt.show()
